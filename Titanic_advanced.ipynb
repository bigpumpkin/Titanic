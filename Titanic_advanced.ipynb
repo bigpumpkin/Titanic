{
 "cells": [
  {
   "cell_type": "code",
   "execution_count": 1,
   "metadata": {
    "collapsed": true
   },
   "outputs": [],
   "source": [
    "import numpy as np\n",
    "import pandas as pd\n",
    "#绘图\n",
    "import seaborn as sns\n",
    "import matplotlib.pyplot as plt\n",
    "%matplotlib inline\n",
    "#各种模型、数据处理方法\n",
    "\n",
    "from sklearn.linear_model import LogisticRegression\n",
    "from sklearn.svm import SVC, LinearSVC\n",
    "from sklearn.ensemble import (RandomForestClassifier, AdaBoostClassifier, \n",
    "                              GradientBoostingClassifier, ExtraTreesClassifier)\n",
    "from sklearn.neighbors import KNeighborsClassifier\n",
    "from sklearn.naive_bayes import GaussianNB\n",
    "from sklearn.linear_model import Perceptron\n",
    "from sklearn.linear_model import SGDClassifier\n",
    "from sklearn.tree import DecisionTreeClassifier\n",
    "\n",
    "import xgboost as xgb\n",
    "from xgboost import XGBClassifier\n",
    "\n",
    "from sklearn.metrics import precision_score\n",
    "from sklearn.ensemble import GradientBoostingClassifier\n",
    "\n",
    "from sklearn.preprocessing import LabelEncoder\n",
    "from sklearn.model_selection import train_test_split\n",
    "from sklearn.model_selection import KFold, GridSearchCV, cross_val_score, StratifiedKFold, learning_curve\n",
    "import warnings\n",
    "warnings.filterwarnings('ignore')\n"
   ]
  },
  {
   "cell_type": "code",
   "execution_count": 41,
   "metadata": {
    "collapsed": true
   },
   "outputs": [],
   "source": [
    "train_df = pd.read_csv('train.csv')\n",
    "test_df = pd.read_csv('test.csv')"
   ]
  },
  {
   "cell_type": "code",
   "execution_count": 42,
   "metadata": {},
   "outputs": [
    {
     "name": "stdout",
     "output_type": "stream",
     "text": [
      "<class 'pandas.core.frame.DataFrame'>\n",
      "RangeIndex: 891 entries, 0 to 890\n",
      "Data columns (total 12 columns):\n",
      "PassengerId    891 non-null int64\n",
      "Survived       891 non-null int64\n",
      "Pclass         891 non-null int64\n",
      "Name           891 non-null object\n",
      "Sex            891 non-null object\n",
      "Age            714 non-null float64\n",
      "SibSp          891 non-null int64\n",
      "Parch          891 non-null int64\n",
      "Ticket         891 non-null object\n",
      "Fare           891 non-null float64\n",
      "Cabin          204 non-null object\n",
      "Embarked       889 non-null object\n",
      "dtypes: float64(2), int64(5), object(5)\n",
      "memory usage: 83.6+ KB\n"
     ]
    }
   ],
   "source": [
    "train_df.info()"
   ]
  },
  {
   "cell_type": "markdown",
   "metadata": {},
   "source": [
    "PassengerId => 乘客ID\n",
    "\n",
    "Pclass => 乘客等级(1/2/3等舱位)\n",
    "\n",
    "Name => 乘客姓名\n",
    "\n",
    "Sex => 性别\n",
    "\n",
    "Age => 年龄\n",
    "\n",
    "SibSp => 堂兄弟/妹个数\n",
    "\n",
    "Parch => 父母与小孩个数\n",
    "\n",
    "Ticket => 船票信息\n",
    "\n",
    "Fare => 票价\n",
    "\n",
    "Cabin => 客舱\n",
    "\n",
    "Embarked => 登船港口"
   ]
  },
  {
   "cell_type": "code",
   "execution_count": 43,
   "metadata": {},
   "outputs": [
    {
     "data": {
      "text/plain": [
       "0      23\n",
       "1      51\n",
       "2      22\n",
       "3      44\n",
       "4      24\n",
       "5      16\n",
       "6      23\n",
       "7      30\n",
       "8      49\n",
       "9      35\n",
       "10     31\n",
       "11     24\n",
       "12     30\n",
       "13     27\n",
       "14     36\n",
       "15     32\n",
       "16     20\n",
       "17     28\n",
       "18     55\n",
       "19     23\n",
       "20     20\n",
       "21     21\n",
       "22     27\n",
       "23     28\n",
       "24     29\n",
       "25     57\n",
       "26     23\n",
       "27     30\n",
       "28     29\n",
       "29     19\n",
       "       ..\n",
       "861    27\n",
       "862    51\n",
       "863    33\n",
       "864    22\n",
       "865    24\n",
       "866    28\n",
       "867    36\n",
       "868    27\n",
       "869    31\n",
       "870    17\n",
       "871    48\n",
       "872    24\n",
       "873    27\n",
       "874    37\n",
       "875    32\n",
       "876    29\n",
       "877    20\n",
       "878    18\n",
       "879    45\n",
       "880    44\n",
       "881    18\n",
       "882    28\n",
       "883    29\n",
       "884    22\n",
       "885    36\n",
       "886    21\n",
       "887    28\n",
       "888    40\n",
       "889    21\n",
       "890    19\n",
       "Name: Name, Length: 891, dtype: int64"
      ]
     },
     "execution_count": 43,
     "metadata": {},
     "output_type": "execute_result"
    }
   ],
   "source": [
    "train_df.Name.apply(lambda x: len(x))"
   ]
  },
  {
   "cell_type": "code",
   "execution_count": 44,
   "metadata": {},
   "outputs": [
    {
     "data": {
      "text/plain": [
       "<matplotlib.axes._subplots.AxesSubplot at 0x163ffdf1a90>"
      ]
     },
     "execution_count": 44,
     "metadata": {},
     "output_type": "execute_result"
    },
    {
     "data": {
      "image/png": "[encoded data removed]",
      "text/plain": [
       "<matplotlib.figure.Figure at 0x163ffd6abe0>"
      ]
     },
     "metadata": {},
     "output_type": "display_data"
    }
   ],
   "source": [
    "train_df.groupby(train_df.Name.apply(lambda x: len(x)))['Survived'].mean().plot(kind='bar')"
   ]
  },
  {
   "cell_type": "code",
   "execution_count": 45,
   "metadata": {
    "collapsed": true
   },
   "outputs": [],
   "source": [
    "combine_df = pd.concat([train_df,test_df])\n",
    "combine_df['Name_Len'] = combine_df['Name'].apply(lambda x: len(x))\n",
    "combine_df['Name_Len'] = pd.qcut(combine_df['Name_Len'],5)"
   ]
  },
  {
   "cell_type": "code",
   "execution_count": 46,
   "metadata": {},
   "outputs": [
    {
     "data": {
      "text/plain": [
       "Mr              517\n",
       "Miss            182\n",
       "Mrs             125\n",
       "Master           40\n",
       "Dr                7\n",
       "Rev               6\n",
       "Major             2\n",
       "Mlle              2\n",
       "Col               2\n",
       "Ms                1\n",
       "Lady              1\n",
       "Sir               1\n",
       "Capt              1\n",
       "Don               1\n",
       "Mme               1\n",
       "Jonkheer          1\n",
       "the Countess      1\n",
       "Name: Name, dtype: int64"
      ]
     },
     "execution_count": 46,
     "metadata": {},
     "output_type": "execute_result"
    }
   ],
   "source": [
    "train_c = train_df['Name'].apply(lambda x: x.split(', ')[1]).apply(lambda x: x.split('.')[0])\n",
    "train_c.value_counts()"
   ]
  },
  {
   "cell_type": "code",
   "execution_count": 47,
   "metadata": {},
   "outputs": [
    {
     "data": {
      "text/plain": [
       "<matplotlib.axes._subplots.AxesSubplot at 0x163ffc9e710>"
      ]
     },
     "execution_count": 47,
     "metadata": {},
     "output_type": "execute_result"
    },
    {
     "data": {
      "image/png": "[encoded data removed]",
      "text/plain": [
       "<matplotlib.figure.Figure at 0x163ffe094e0>"
      ]
     },
     "metadata": {},
     "output_type": "display_data"
    }
   ],
   "source": [
    "train_df.groupby(train_c)['Survived'].mean().plot(kind='bar')"
   ]
  },
  {
   "cell_type": "code",
   "execution_count": 48,
   "metadata": {},
   "outputs": [
    {
     "data": {
      "text/plain": [
       "Name\n",
       "Capt            0.000000\n",
       "Col             0.500000\n",
       "Don             0.000000\n",
       "Dr              0.428571\n",
       "Jonkheer        0.000000\n",
       "Lady            1.000000\n",
       "Major           0.500000\n",
       "Master          0.575000\n",
       "Miss            0.697802\n",
       "Mlle            1.000000\n",
       "Mme             1.000000\n",
       "Mr              0.156673\n",
       "Mrs             0.792000\n",
       "Ms              1.000000\n",
       "Rev             0.000000\n",
       "Sir             1.000000\n",
       "the Countess    1.000000\n",
       "Name: Survived, dtype: float64"
      ]
     },
     "execution_count": 48,
     "metadata": {},
     "output_type": "execute_result"
    }
   ],
   "source": [
    "train_df.groupby(train_c)['Survived'].mean()"
   ]
  },
  {
   "cell_type": "code",
   "execution_count": 49,
   "metadata": {
    "collapsed": true
   },
   "outputs": [],
   "source": [
    "combine_df['Title'] = combine_df['Name'].apply(lambda x: x.split(', ')[1]).apply(lambda x: x.split('.')[0])\n",
    "combine_df['Title'] = combine_df['Title'].replace(['Don', 'Dona', 'Capt', 'Jonkheer', 'Rev'],'Mr')\n",
    "combine_df['Title'] = combine_df['Title'].replace(['Major', 'Col','Master','Dr','Sir'],'Postedman')\n",
    "combine_df['Title'] = combine_df['Title'].replace(['Mlle','Ms'], 'Miss')\n",
    "combine_df['Title'] = combine_df['Title'].replace(['the Countess','Mme','Lady'], 'Mrs')\n",
    "df = pd.get_dummies(combine_df['Title'],prefix='Title')\n",
    "combine_df = pd.concat([combine_df,df],axis=1)"
   ]
  },
  {
   "cell_type": "code",
   "execution_count": 50,
   "metadata": {},
   "outputs": [
    {
     "data": {
      "text/plain": [
       "CA. 2343           7\n",
       "1601               7\n",
       "347082             7\n",
       "347088             6\n",
       "CA 2144            6\n",
       "3101295            6\n",
       "382652             5\n",
       "S.O.C. 14879       5\n",
       "2666               4\n",
       "W./C. 6608         4\n",
       "4133               4\n",
       "113760             4\n",
       "17421              4\n",
       "349909             4\n",
       "LINE               4\n",
       "347077             4\n",
       "19950              4\n",
       "113781             4\n",
       "PC 17757           4\n",
       "29106              3\n",
       "PC 17572           3\n",
       "F.C.C. 13529       3\n",
       "110413             3\n",
       "248727             3\n",
       "371110             3\n",
       "345773             3\n",
       "C.A. 34651         3\n",
       "13502              3\n",
       "347742             3\n",
       "239853             3\n",
       "                  ..\n",
       "112379             1\n",
       "370375             1\n",
       "234686             1\n",
       "PC 17754           1\n",
       "392092             1\n",
       "323592             1\n",
       "113787             1\n",
       "SOTON/OQ 392089    1\n",
       "PC 17610           1\n",
       "65303              1\n",
       "16988              1\n",
       "323951             1\n",
       "112053             1\n",
       "13568              1\n",
       "C.A. 18723         1\n",
       "36209              1\n",
       "347464             1\n",
       "29103              1\n",
       "14311              1\n",
       "PC 17597           1\n",
       "17464              1\n",
       "36866              1\n",
       "349246             1\n",
       "315090             1\n",
       "370370             1\n",
       "A/4. 20589         1\n",
       "330909             1\n",
       "349243             1\n",
       "A/5 3536           1\n",
       "382651             1\n",
       "Name: Ticket, Length: 681, dtype: int64"
      ]
     },
     "execution_count": 50,
     "metadata": {},
     "output_type": "execute_result"
    }
   ],
   "source": [
    "train_df.Ticket.value_counts()"
   ]
  },
  {
   "cell_type": "code",
   "execution_count": 51,
   "metadata": {},
   "outputs": [
    {
     "data": {
      "text/plain": [
       "Ticket  Survived\n",
       "1       0           384\n",
       "        1           163\n",
       "2       1           108\n",
       "        0            80\n",
       "3       1            44\n",
       "        0            19\n",
       "4       0            22\n",
       "        1            22\n",
       "5       0            10\n",
       "6       0            18\n",
       "7       0            16\n",
       "        1             5\n",
       "Name: Survived, dtype: int64"
      ]
     },
     "execution_count": 51,
     "metadata": {},
     "output_type": "execute_result"
    },
    {
     "data": {
      "image/png": "[encoded data removed]",
      "text/plain": [
       "<matplotlib.figure.Figure at 0x163ffe9ad68>"
      ]
     },
     "metadata": {},
     "output_type": "display_data"
    }
   ],
   "source": [
    "T_group=train_df.groupby(train_df.Ticket.apply(lambda x: train_df.Ticket.value_counts()[x]))['Survived']\n",
    "T_group.mean().plot(kind = 'bar')\n",
    "T_group.value_counts()"
   ]
  },
  {
   "cell_type": "code",
   "execution_count": 52,
   "metadata": {},
   "outputs": [
    {
     "data": {
      "text/plain": [
       "Ticket  Survived\n",
       "1       1            92\n",
       "        0            54\n",
       "2       0            98\n",
       "        1            85\n",
       "3       0           229\n",
       "        1            72\n",
       "4       0             8\n",
       "        1             2\n",
       "5       0             3\n",
       "6       0             5\n",
       "        1             1\n",
       "7       0             8\n",
       "        1             1\n",
       "8       0             2\n",
       "9       1             1\n",
       "A       0            27\n",
       "        1             2\n",
       "C       0            31\n",
       "        1            16\n",
       "F       1             4\n",
       "        0             3\n",
       "L       0             3\n",
       "        1             1\n",
       "P       1            42\n",
       "        0            23\n",
       "S       0            44\n",
       "        1            21\n",
       "W       0            11\n",
       "        1             2\n",
       "Name: Survived, dtype: int64"
      ]
     },
     "execution_count": 52,
     "metadata": {},
     "output_type": "execute_result"
    },
    {
     "data": {
      "image/png": "[encoded data removed]",
      "text/plain": [
       "<matplotlib.figure.Figure at 0x163fffc8f60>"
      ]
     },
     "metadata": {},
     "output_type": "display_data"
    }
   ],
   "source": [
    "TL_group=train_df.groupby(train_df.Ticket.apply(lambda x: str(x)[0]))['Survived']\n",
    "TL_group.mean().plot(kind = 'bar')\n",
    "TL_group.value_counts()"
   ]
  },
  {
   "cell_type": "code",
   "execution_count": 53,
   "metadata": {},
   "outputs": [
    {
     "data": {
      "text/plain": [
       "Familysize  Survived\n",
       "0           0           374\n",
       "            1           163\n",
       "1           1            89\n",
       "            0            72\n",
       "2           1            59\n",
       "            0            43\n",
       "3           1            21\n",
       "            0             8\n",
       "4           0            12\n",
       "            1             3\n",
       "5           0            19\n",
       "            1             3\n",
       "6           0             8\n",
       "            1             4\n",
       "7           0             6\n",
       "10          0             7\n",
       "Name: Survived, dtype: int64"
      ]
     },
     "execution_count": 53,
     "metadata": {},
     "output_type": "execute_result"
    }
   ],
   "source": [
    "train_df['Familysize'] = train_df['SibSp']+train_df['Parch']\n",
    "g_f = train_df.groupby(train_df['Familysize'])['Survived']\n",
    "g_f.value_counts()"
   ]
  },
  {
   "cell_type": "code",
   "execution_count": 54,
   "metadata": {},
   "outputs": [],
   "source": [
    "train_df['Age'] = pd.cut(train_df['Age'],5)"
   ]
  },
  {
   "cell_type": "code",
   "execution_count": 55,
   "metadata": {},
   "outputs": [
    {
     "data": {
      "text/plain": [
       "Age\n",
       "(0.34, 16.336]      0.550000\n",
       "(16.336, 32.252]    0.369942\n",
       "(32.252, 48.168]    0.404255\n",
       "(48.168, 64.084]    0.434783\n",
       "(64.084, 80.0]      0.090909\n",
       "Name: Survived, dtype: float64"
      ]
     },
     "execution_count": 55,
     "metadata": {},
     "output_type": "execute_result"
    }
   ],
   "source": [
    "g_age = train_df[['Age','Survived']].groupby(train_df.Age)\n",
    "g_age['Survived'].mean()"
   ]
  },
  {
   "cell_type": "code",
   "execution_count": 56,
   "metadata": {},
   "outputs": [
    {
     "data": {
      "text/plain": [
       "Age               Survived\n",
       "(0.34, 16.336]    1            55\n",
       "                  0            45\n",
       "(16.336, 32.252]  0           218\n",
       "                  1           128\n",
       "(32.252, 48.168]  0           112\n",
       "                  1            76\n",
       "(48.168, 64.084]  0            39\n",
       "                  1            30\n",
       "(64.084, 80.0]    0            10\n",
       "                  1             1\n",
       "Name: Survived, dtype: int64"
      ]
     },
     "execution_count": 56,
     "metadata": {},
     "output_type": "execute_result"
    }
   ],
   "source": [
    "g_age['Survived'].value_counts()"
   ]
  },
  {
   "cell_type": "code",
   "execution_count": 57,
   "metadata": {},
   "outputs": [
    {
     "name": "stdout",
     "output_type": "stream",
     "text": [
      "<class 'pandas.core.frame.DataFrame'>\n",
      "Int64Index: 1309 entries, 0 to 417\n",
      "Data columns (total 18 columns):\n",
      "Age                1046 non-null float64\n",
      "Cabin              295 non-null object\n",
      "Embarked           1307 non-null object\n",
      "Fare               1308 non-null float64\n",
      "Name               1309 non-null object\n",
      "Parch              1309 non-null int64\n",
      "PassengerId        1309 non-null int64\n",
      "Pclass             1309 non-null int64\n",
      "Sex                1309 non-null object\n",
      "SibSp              1309 non-null int64\n",
      "Survived           891 non-null float64\n",
      "Ticket             1309 non-null object\n",
      "Name_Len           1309 non-null category\n",
      "Title              1309 non-null object\n",
      "Title_Miss         1309 non-null uint8\n",
      "Title_Mr           1309 non-null uint8\n",
      "Title_Mrs          1309 non-null uint8\n",
      "Title_Postedman    1309 non-null uint8\n",
      "dtypes: category(1), float64(3), int64(4), object(6), uint8(4)\n",
      "memory usage: 149.6+ KB\n"
     ]
    }
   ],
   "source": [
    "combine_df.info()"
   ]
  },
  {
   "cell_type": "code",
   "execution_count": 58,
   "metadata": {
    "collapsed": true
   },
   "outputs": [],
   "source": [
    "# 这两组数据都能显著影响到Survived，但是影响方式不完全相同\n",
    "# 将这两项合并成FamilySize组的同时保留这两项。\n",
    "combine_df['Familysize'] = combine_df['SibSp']+combine_df['Parch']"
   ]
  },
  {
   "cell_type": "code",
   "execution_count": 59,
   "metadata": {
    "collapsed": true
   },
   "outputs": [],
   "source": [
    "combine_df['Fname'] = combine_df['Name'].apply(lambda x:x.split(',')[0])\n",
    "dead_female_Fname = list(set(combine_df[(combine_df.Sex=='female') & (combine_df.Age>=12)\n",
    "                              & (combine_df.Survived==0) & (combine_df.Familysize>1)]['Fname'].values))\n",
    "survive_male_Fname = list(set(combine_df[(combine_df.Sex=='male') & (combine_df.Age>=12)\n",
    "                              & (combine_df.Survived==1) & (combine_df.Familysize>1)]['Fname'].values))\n",
    "combine_df['Dead_female_family'] = np.where(combine_df['Fname'].isin(dead_female_Fname),1,0)\n",
    "combine_df['Survive_male_family'] = np.where(combine_df['Fname'].isin(survive_male_Fname),1,0)\n",
    "combine_df = combine_df.drop(['Name','Fname'],axis=1)"
   ]
  },
  {
   "cell_type": "code",
   "execution_count": 60,
   "metadata": {
    "collapsed": true
   },
   "outputs": [],
   "source": [
    "group = combine_df.groupby(['Title', 'Pclass'])['Age']\n",
    "combine_df['Age'] = group.transform(lambda x: x.fillna(x.median()))\n",
    "combine_df = combine_df.drop('Title',axis=1)\n",
    "\n",
    "combine_df['IsChild'] = np.where(combine_df['Age']<=12,1,0)\n",
    "combine_df['IsOld'] = np.where(combine_df['Age']>=60,1,0)\n",
    "#combine_df['Age'] = pd.cut(combine_df['Age'],5)\n",
    "combine_df = combine_df.drop('Age',axis=1)"
   ]
  },
  {
   "cell_type": "code",
   "execution_count": 61,
   "metadata": {
    "collapsed": true
   },
   "outputs": [],
   "source": [
    "combine_df['Ticket_Lett'] = combine_df['Ticket'].apply(lambda x: str(x)[0])\n",
    "combine_df['Ticket_Lett'] = combine_df['Ticket_Lett'].apply(lambda x: str(x))\n",
    "\n",
    "combine_df['High_Survival_Ticket'] = np.where(combine_df['Ticket_Lett'].isin(['1', '2', 'P']),1,0)\n",
    "combine_df['Low_Survival_Ticket'] = np.where(combine_df['Ticket_Lett'].isin(['3','4','6','W','A','7']),1,0)\n",
    "combine_df = combine_df.drop(['Ticket','Ticket_Lett'],axis=1)"
   ]
  },
  {
   "cell_type": "code",
   "execution_count": 62,
   "metadata": {
    "collapsed": true
   },
   "outputs": [],
   "source": [
    "combine_df['Familysize'] = np.where(combine_df['Familysize']==0, 'solo',\n",
    "                                    np.where(combine_df['Familysize']<=3, 'normal', 'big'))\n",
    "df = pd.get_dummies(combine_df['Familysize'],prefix='Familysize')\n",
    "#combine_df = pd.concat([combine_df,df],axis=1).drop(['SibSp','Parch','Familysize'])\n",
    "combine_df = pd.concat([combine_df,df],axis=1).drop('Familysize',axis=1)"
   ]
  },
  {
   "cell_type": "code",
   "execution_count": 63,
   "metadata": {
    "collapsed": true
   },
   "outputs": [],
   "source": [
    "combine_df.Embarked = combine_df.Embarked.fillna('S')\n",
    "df = pd.get_dummies(combine_df['Embarked'],prefix='Embarked')\n",
    "combine_df = pd.concat([combine_df,df],axis=1).drop('Embarked',axis=1)"
   ]
  },
  {
   "cell_type": "code",
   "execution_count": 64,
   "metadata": {
    "collapsed": true
   },
   "outputs": [],
   "source": [
    "combine_df['Cabin_isNull'] = np.where(combine_df['Cabin'].isnull(),0,1)\n",
    "combine_df = combine_df.drop('Cabin',axis=1)"
   ]
  },
  {
   "cell_type": "code",
   "execution_count": 65,
   "metadata": {
    "collapsed": true
   },
   "outputs": [],
   "source": [
    "df = pd.get_dummies(combine_df['Pclass'],prefix='Pclass')\n",
    "combine_df = pd.concat([combine_df,df],axis=1).drop('Pclass',axis=1)"
   ]
  },
  {
   "cell_type": "code",
   "execution_count": 66,
   "metadata": {
    "collapsed": true
   },
   "outputs": [],
   "source": [
    "df = pd.get_dummies(combine_df['Sex'],prefix='Sex')\n",
    "combine_df = pd.concat([combine_df,df],axis=1).drop('Sex',axis=1)"
   ]
  },
  {
   "cell_type": "code",
   "execution_count": 67,
   "metadata": {
    "collapsed": true
   },
   "outputs": [],
   "source": [
    "combine_df['Fare'] = pd.qcut(combine_df.Fare,3)\n",
    "df = pd.get_dummies(combine_df.Fare,prefix='Fare').drop('Fare_(-0.001, 8.662]',axis=1)\n",
    "combine_df = pd.concat([combine_df,df],axis=1).drop('Fare',axis=1)"
   ]
  },
  {
   "cell_type": "code",
   "execution_count": 68,
   "metadata": {},
   "outputs": [
    {
     "data": {
      "text/html": [
       "<div>\n",
       "<style>\n",
       "    .dataframe thead tr:only-child th {\n",
       "        text-align: right;\n",
       "    }\n",
       "\n",
       "    .dataframe thead th {\n",
       "        text-align: left;\n",
       "    }\n",
       "\n",
       "    .dataframe tbody tr th {\n",
       "        vertical-align: top;\n",
       "    }\n",
       "</style>\n",
       "<table border=\"1\" class=\"dataframe\">\n",
       "  <thead>\n",
       "    <tr style=\"text-align: right;\">\n",
       "      <th></th>\n",
       "      <th>Parch</th>\n",
       "      <th>PassengerId</th>\n",
       "      <th>SibSp</th>\n",
       "      <th>Survived</th>\n",
       "      <th>Title_Miss</th>\n",
       "      <th>Title_Mr</th>\n",
       "      <th>Title_Mrs</th>\n",
       "      <th>Title_Postedman</th>\n",
       "      <th>Dead_female_family</th>\n",
       "      <th>Survive_male_family</th>\n",
       "      <th>...</th>\n",
       "      <th>Embarked_Q</th>\n",
       "      <th>Embarked_S</th>\n",
       "      <th>Cabin_isNull</th>\n",
       "      <th>Pclass_1</th>\n",
       "      <th>Pclass_2</th>\n",
       "      <th>Pclass_3</th>\n",
       "      <th>Sex_female</th>\n",
       "      <th>Sex_male</th>\n",
       "      <th>Fare_(8.662, 26.0]</th>\n",
       "      <th>Fare_(26.0, 512.329]</th>\n",
       "    </tr>\n",
       "  </thead>\n",
       "  <tbody>\n",
       "    <tr>\n",
       "      <th>count</th>\n",
       "      <td>1309.000000</td>\n",
       "      <td>1309.000000</td>\n",
       "      <td>1309.000000</td>\n",
       "      <td>891.000000</td>\n",
       "      <td>1309.000000</td>\n",
       "      <td>1309.000000</td>\n",
       "      <td>1309.000000</td>\n",
       "      <td>1309.000000</td>\n",
       "      <td>1309.000000</td>\n",
       "      <td>1309.000000</td>\n",
       "      <td>...</td>\n",
       "      <td>1309.000000</td>\n",
       "      <td>1309.000000</td>\n",
       "      <td>1309.000000</td>\n",
       "      <td>1309.000000</td>\n",
       "      <td>1309.000000</td>\n",
       "      <td>1309.000000</td>\n",
       "      <td>1309.000000</td>\n",
       "      <td>1309.000000</td>\n",
       "      <td>1309.000000</td>\n",
       "      <td>1309.000000</td>\n",
       "    </tr>\n",
       "    <tr>\n",
       "      <th>mean</th>\n",
       "      <td>0.385027</td>\n",
       "      <td>655.000000</td>\n",
       "      <td>0.498854</td>\n",
       "      <td>0.383838</td>\n",
       "      <td>0.201681</td>\n",
       "      <td>0.587471</td>\n",
       "      <td>0.152788</td>\n",
       "      <td>0.058060</td>\n",
       "      <td>0.055004</td>\n",
       "      <td>0.014515</td>\n",
       "      <td>...</td>\n",
       "      <td>0.093965</td>\n",
       "      <td>0.699771</td>\n",
       "      <td>0.225363</td>\n",
       "      <td>0.246753</td>\n",
       "      <td>0.211612</td>\n",
       "      <td>0.541635</td>\n",
       "      <td>0.355997</td>\n",
       "      <td>0.644003</td>\n",
       "      <td>0.326967</td>\n",
       "      <td>0.325439</td>\n",
       "    </tr>\n",
       "    <tr>\n",
       "      <th>std</th>\n",
       "      <td>0.865560</td>\n",
       "      <td>378.020061</td>\n",
       "      <td>1.041658</td>\n",
       "      <td>0.486592</td>\n",
       "      <td>0.401408</td>\n",
       "      <td>0.492477</td>\n",
       "      <td>0.359921</td>\n",
       "      <td>0.233945</td>\n",
       "      <td>0.228075</td>\n",
       "      <td>0.119646</td>\n",
       "      <td>...</td>\n",
       "      <td>0.291891</td>\n",
       "      <td>0.458533</td>\n",
       "      <td>0.417981</td>\n",
       "      <td>0.431287</td>\n",
       "      <td>0.408607</td>\n",
       "      <td>0.498454</td>\n",
       "      <td>0.478997</td>\n",
       "      <td>0.478997</td>\n",
       "      <td>0.469284</td>\n",
       "      <td>0.468718</td>\n",
       "    </tr>\n",
       "    <tr>\n",
       "      <th>min</th>\n",
       "      <td>0.000000</td>\n",
       "      <td>1.000000</td>\n",
       "      <td>0.000000</td>\n",
       "      <td>0.000000</td>\n",
       "      <td>0.000000</td>\n",
       "      <td>0.000000</td>\n",
       "      <td>0.000000</td>\n",
       "      <td>0.000000</td>\n",
       "      <td>0.000000</td>\n",
       "      <td>0.000000</td>\n",
       "      <td>...</td>\n",
       "      <td>0.000000</td>\n",
       "      <td>0.000000</td>\n",
       "      <td>0.000000</td>\n",
       "      <td>0.000000</td>\n",
       "      <td>0.000000</td>\n",
       "      <td>0.000000</td>\n",
       "      <td>0.000000</td>\n",
       "      <td>0.000000</td>\n",
       "      <td>0.000000</td>\n",
       "      <td>0.000000</td>\n",
       "    </tr>\n",
       "    <tr>\n",
       "      <th>25%</th>\n",
       "      <td>0.000000</td>\n",
       "      <td>328.000000</td>\n",
       "      <td>0.000000</td>\n",
       "      <td>0.000000</td>\n",
       "      <td>0.000000</td>\n",
       "      <td>0.000000</td>\n",
       "      <td>0.000000</td>\n",
       "      <td>0.000000</td>\n",
       "      <td>0.000000</td>\n",
       "      <td>0.000000</td>\n",
       "      <td>...</td>\n",
       "      <td>0.000000</td>\n",
       "      <td>0.000000</td>\n",
       "      <td>0.000000</td>\n",
       "      <td>0.000000</td>\n",
       "      <td>0.000000</td>\n",
       "      <td>0.000000</td>\n",
       "      <td>0.000000</td>\n",
       "      <td>0.000000</td>\n",
       "      <td>0.000000</td>\n",
       "      <td>0.000000</td>\n",
       "    </tr>\n",
       "    <tr>\n",
       "      <th>50%</th>\n",
       "      <td>0.000000</td>\n",
       "      <td>655.000000</td>\n",
       "      <td>0.000000</td>\n",
       "      <td>0.000000</td>\n",
       "      <td>0.000000</td>\n",
       "      <td>1.000000</td>\n",
       "      <td>0.000000</td>\n",
       "      <td>0.000000</td>\n",
       "      <td>0.000000</td>\n",
       "      <td>0.000000</td>\n",
       "      <td>...</td>\n",
       "      <td>0.000000</td>\n",
       "      <td>1.000000</td>\n",
       "      <td>0.000000</td>\n",
       "      <td>0.000000</td>\n",
       "      <td>0.000000</td>\n",
       "      <td>1.000000</td>\n",
       "      <td>0.000000</td>\n",
       "      <td>1.000000</td>\n",
       "      <td>0.000000</td>\n",
       "      <td>0.000000</td>\n",
       "    </tr>\n",
       "    <tr>\n",
       "      <th>75%</th>\n",
       "      <td>0.000000</td>\n",
       "      <td>982.000000</td>\n",
       "      <td>1.000000</td>\n",
       "      <td>1.000000</td>\n",
       "      <td>0.000000</td>\n",
       "      <td>1.000000</td>\n",
       "      <td>0.000000</td>\n",
       "      <td>0.000000</td>\n",
       "      <td>0.000000</td>\n",
       "      <td>0.000000</td>\n",
       "      <td>...</td>\n",
       "      <td>0.000000</td>\n",
       "      <td>1.000000</td>\n",
       "      <td>0.000000</td>\n",
       "      <td>0.000000</td>\n",
       "      <td>0.000000</td>\n",
       "      <td>1.000000</td>\n",
       "      <td>1.000000</td>\n",
       "      <td>1.000000</td>\n",
       "      <td>1.000000</td>\n",
       "      <td>1.000000</td>\n",
       "    </tr>\n",
       "    <tr>\n",
       "      <th>max</th>\n",
       "      <td>9.000000</td>\n",
       "      <td>1309.000000</td>\n",
       "      <td>8.000000</td>\n",
       "      <td>1.000000</td>\n",
       "      <td>1.000000</td>\n",
       "      <td>1.000000</td>\n",
       "      <td>1.000000</td>\n",
       "      <td>1.000000</td>\n",
       "      <td>1.000000</td>\n",
       "      <td>1.000000</td>\n",
       "      <td>...</td>\n",
       "      <td>1.000000</td>\n",
       "      <td>1.000000</td>\n",
       "      <td>1.000000</td>\n",
       "      <td>1.000000</td>\n",
       "      <td>1.000000</td>\n",
       "      <td>1.000000</td>\n",
       "      <td>1.000000</td>\n",
       "      <td>1.000000</td>\n",
       "      <td>1.000000</td>\n",
       "      <td>1.000000</td>\n",
       "    </tr>\n",
       "  </tbody>\n",
       "</table>\n",
       "<p>8 rows × 28 columns</p>\n",
       "</div>"
      ],
      "text/plain": [
       "             Parch  PassengerId        SibSp    Survived   Title_Miss  \\\n",
       "count  1309.000000  1309.000000  1309.000000  891.000000  1309.000000   \n",
       "mean      0.385027   655.000000     0.498854    0.383838     0.201681   \n",
       "std       0.865560   378.020061     1.041658    0.486592     0.401408   \n",
       "min       0.000000     1.000000     0.000000    0.000000     0.000000   \n",
       "25%       0.000000   328.000000     0.000000    0.000000     0.000000   \n",
       "50%       0.000000   655.000000     0.000000    0.000000     0.000000   \n",
       "75%       0.000000   982.000000     1.000000    1.000000     0.000000   \n",
       "max       9.000000  1309.000000     8.000000    1.000000     1.000000   \n",
       "\n",
       "          Title_Mr    Title_Mrs  Title_Postedman  Dead_female_family  \\\n",
       "count  1309.000000  1309.000000      1309.000000         1309.000000   \n",
       "mean      0.587471     0.152788         0.058060            0.055004   \n",
       "std       0.492477     0.359921         0.233945            0.228075   \n",
       "min       0.000000     0.000000         0.000000            0.000000   \n",
       "25%       0.000000     0.000000         0.000000            0.000000   \n",
       "50%       1.000000     0.000000         0.000000            0.000000   \n",
       "75%       1.000000     0.000000         0.000000            0.000000   \n",
       "max       1.000000     1.000000         1.000000            1.000000   \n",
       "\n",
       "       Survive_male_family          ...            Embarked_Q   Embarked_S  \\\n",
       "count          1309.000000          ...           1309.000000  1309.000000   \n",
       "mean              0.014515          ...              0.093965     0.699771   \n",
       "std               0.119646          ...              0.291891     0.458533   \n",
       "min               0.000000          ...              0.000000     0.000000   \n",
       "25%               0.000000          ...              0.000000     0.000000   \n",
       "50%               0.000000          ...              0.000000     1.000000   \n",
       "75%               0.000000          ...              0.000000     1.000000   \n",
       "max               1.000000          ...              1.000000     1.000000   \n",
       "\n",
       "       Cabin_isNull     Pclass_1     Pclass_2     Pclass_3   Sex_female  \\\n",
       "count   1309.000000  1309.000000  1309.000000  1309.000000  1309.000000   \n",
       "mean       0.225363     0.246753     0.211612     0.541635     0.355997   \n",
       "std        0.417981     0.431287     0.408607     0.498454     0.478997   \n",
       "min        0.000000     0.000000     0.000000     0.000000     0.000000   \n",
       "25%        0.000000     0.000000     0.000000     0.000000     0.000000   \n",
       "50%        0.000000     0.000000     0.000000     1.000000     0.000000   \n",
       "75%        0.000000     0.000000     0.000000     1.000000     1.000000   \n",
       "max        1.000000     1.000000     1.000000     1.000000     1.000000   \n",
       "\n",
       "          Sex_male  Fare_(8.662, 26.0]  Fare_(26.0, 512.329]  \n",
       "count  1309.000000         1309.000000           1309.000000  \n",
       "mean      0.644003            0.326967              0.325439  \n",
       "std       0.478997            0.469284              0.468718  \n",
       "min       0.000000            0.000000              0.000000  \n",
       "25%       0.000000            0.000000              0.000000  \n",
       "50%       1.000000            0.000000              0.000000  \n",
       "75%       1.000000            1.000000              1.000000  \n",
       "max       1.000000            1.000000              1.000000  \n",
       "\n",
       "[8 rows x 28 columns]"
      ]
     },
     "execution_count": 68,
     "metadata": {},
     "output_type": "execute_result"
    }
   ],
   "source": [
    "combine_df.describe()"
   ]
  },
  {
   "cell_type": "code",
   "execution_count": 69,
   "metadata": {
    "collapsed": true
   },
   "outputs": [],
   "source": [
    "# 所有特征转化成数值型编码\n",
    "features = combine_df.drop([\"PassengerId\",\"Survived\"], axis=1).columns\n",
    "le = LabelEncoder()\n",
    "for feature in features:\n",
    "    le = le.fit(combine_df[feature])\n",
    "    combine_df[feature] = le.transform(combine_df[feature])"
   ]
  },
  {
   "cell_type": "code",
   "execution_count": 71,
   "metadata": {},
   "outputs": [
    {
     "name": "stdout",
     "output_type": "stream",
     "text": [
      "<class 'pandas.core.frame.DataFrame'>\n",
      "Int64Index: 1309 entries, 0 to 417\n",
      "Data columns (total 29 columns):\n",
      "Parch                   1309 non-null int64\n",
      "PassengerId             1309 non-null int64\n",
      "SibSp                   1309 non-null int64\n",
      "Survived                891 non-null float64\n",
      "Name_Len                1309 non-null int64\n",
      "Title_Miss              1309 non-null int64\n",
      "Title_Mr                1309 non-null int64\n",
      "Title_Mrs               1309 non-null int64\n",
      "Title_Postedman         1309 non-null int64\n",
      "Dead_female_family      1309 non-null int64\n",
      "Survive_male_family     1309 non-null int64\n",
      "IsChild                 1309 non-null int64\n",
      "IsOld                   1309 non-null int64\n",
      "High_Survival_Ticket    1309 non-null int64\n",
      "Low_Survival_Ticket     1309 non-null int64\n",
      "Familysize_big          1309 non-null int64\n",
      "Familysize_normal       1309 non-null int64\n",
      "Familysize_solo         1309 non-null int64\n",
      "Embarked_C              1309 non-null int64\n",
      "Embarked_Q              1309 non-null int64\n",
      "Embarked_S              1309 non-null int64\n",
      "Cabin_isNull            1309 non-null int64\n",
      "Pclass_1                1309 non-null int64\n",
      "Pclass_2                1309 non-null int64\n",
      "Pclass_3                1309 non-null int64\n",
      "Sex_female              1309 non-null int64\n",
      "Sex_male                1309 non-null int64\n",
      "Fare_(8.662, 26.0]      1309 non-null int64\n",
      "Fare_(26.0, 512.329]    1309 non-null int64\n",
      "dtypes: float64(1), int64(28)\n",
      "memory usage: 306.8 KB\n"
     ]
    }
   ],
   "source": [
    "combine_df.info()"
   ]
  },
  {
   "cell_type": "code",
   "execution_count": 72,
   "metadata": {
    "collapsed": true
   },
   "outputs": [],
   "source": [
    "X_train = combine_df.iloc[:891,:].drop([\"PassengerId\",\"Survived\"], axis=1)\n",
    "Y_train = combine_df.iloc[:891,:][\"Survived\"]\n",
    "X_test = combine_df.iloc[891:,:].drop([\"PassengerId\",\"Survived\"], axis=1)"
   ]
  },
  {
   "cell_type": "code",
   "execution_count": 73,
   "metadata": {
    "collapsed": true
   },
   "outputs": [],
   "source": [
    "random_forest = RandomForestClassifier(n_estimators=250, max_depth=5, criterion='gini')\n",
    "random_forest.fit(X_train, Y_train)\n",
    "Y_pred = random_forest.predict(X_test)"
   ]
  },
  {
   "cell_type": "code",
   "execution_count": 74,
   "metadata": {
    "collapsed": true
   },
   "outputs": [],
   "source": [
    "result = pd.DataFrame({'PassengerId':test_df['PassengerId'].as_matrix(), 'Survived':Y_pred.astype(np.int32)})\n",
    "#result.to_csv(\"logistic_regression_predictions.csv\", index=False)\n",
    "result.to_csv(\"RF_predictions.csv\", index=False)"
   ]
  },
  {
   "cell_type": "code",
   "execution_count": 75,
   "metadata": {},
   "outputs": [
    {
     "name": "stdout",
     "output_type": "stream",
     "text": [
      "                        Model  Score\n",
      "3               Random Forest  92.70\n",
      "7               Decision Tree  92.70\n",
      "8              Gradient Boost  88.78\n",
      "1                         KNN  86.98\n",
      "2         Logistic Regression  85.86\n",
      "6                  Linear SVC  85.52\n",
      "0     Support Vector Machines  84.29\n",
      "4                 Naive Bayes  84.18\n",
      "5  Stochastic Gradient Decent  84.18\n"
     ]
    }
   ],
   "source": [
    "# Logistic Regression\n",
    "logreg = LogisticRegression()\n",
    "logreg.fit(X_train, Y_train)\n",
    "Y_pred = logreg.predict(X_test)\n",
    "acc_log = round(logreg.score(X_train, Y_train) * 100, 2)\n",
    "\n",
    "# Support Vector Machines\n",
    "svc = SVC()\n",
    "svc.fit(X_train, Y_train)\n",
    "Y_pred = svc.predict(X_test)\n",
    "acc_svc = round(svc.score(X_train, Y_train) * 100, 2)\n",
    "\n",
    "#  k-Nearest Neighbors\n",
    "knn = KNeighborsClassifier(n_neighbors = 3)\n",
    "knn.fit(X_train, Y_train)\n",
    "Y_pred = knn.predict(X_test)\n",
    "acc_knn = round(knn.score(X_train, Y_train) * 100, 2)\n",
    "\n",
    "# Gaussian Naive Bayes\n",
    "gaussian = GaussianNB()\n",
    "gaussian.fit(X_train, Y_train)\n",
    "Y_pred = gaussian.predict(X_test)\n",
    "acc_gaussian = round(gaussian.score(X_train, Y_train) * 100, 2)\n",
    "\n",
    "# Linear SVC\n",
    "linear_svc = LinearSVC()\n",
    "linear_svc.fit(X_train, Y_train)\n",
    "Y_pred = linear_svc.predict(X_test)\n",
    "acc_linear_svc = round(linear_svc.score(X_train, Y_train) * 100, 2)\n",
    "\n",
    "# Stochastic Gradient Descent\n",
    "sgd = SGDClassifier()\n",
    "sgd.fit(X_train, Y_train)\n",
    "Y_pred = sgd.predict(X_test)\n",
    "acc_sgd = round(sgd.score(X_train, Y_train) * 100, 2)\n",
    "\n",
    "# Decision Tree\n",
    "decision_tree = DecisionTreeClassifier()\n",
    "decision_tree.fit(X_train, Y_train)\n",
    "Y_pred = decision_tree.predict(X_test)\n",
    "acc_decision_tree = round(decision_tree.score(X_train, Y_train) * 100, 2)\n",
    "\n",
    "# Random Forest\n",
    "random_forest = RandomForestClassifier(n_estimators=100)\n",
    "random_forest.fit(X_train, Y_train)\n",
    "Y_pred = random_forest.predict(X_test)\n",
    "random_forest.score(X_train, Y_train)\n",
    "acc_random_forest = round(random_forest.score(X_train, Y_train) * 100, 2)\n",
    "\n",
    "#Gradient Boost\n",
    "gbdt = GradientBoostingClassifier(n_estimators=500,learning_rate=0.03,max_depth=3)\n",
    "gbdt.fit(X_train, Y_train)\n",
    "Y_pred = gbdt.predict(X_test)\n",
    "gbdt.score(X_train, Y_train)\n",
    "acc_gbdt = round(gbdt.score(X_train, Y_train) * 100, 2)\n",
    "\n",
    "\n",
    "models = pd.DataFrame({\n",
    "    'Model': ['Support Vector Machines', 'KNN', 'Logistic Regression', \n",
    "              'Random Forest', 'Naive Bayes', \n",
    "              'Stochastic Gradient Decent', 'Linear SVC', \n",
    "              'Decision Tree','Gradient Boost'],\n",
    "    'Score': [acc_svc, acc_knn, acc_log, \n",
    "              acc_random_forest, acc_gaussian, \n",
    "              acc_sgd, acc_linear_svc, acc_decision_tree,\n",
    "             acc_gbdt]})\n",
    "print(models.sort_values(by='Score', ascending=False))"
   ]
  },
  {
   "cell_type": "code",
   "execution_count": 76,
   "metadata": {},
   "outputs": [
    {
     "name": "stdout",
     "output_type": "stream",
     "text": [
      "                 Feature  importance\n",
      "0                  Parch    0.026472\n",
      "1                  SibSp    0.033585\n",
      "2               Name_Len    0.128405\n",
      "3             Title_Miss    0.033660\n",
      "4               Title_Mr    0.125858\n",
      "5              Title_Mrs    0.036399\n",
      "6        Title_Postedman    0.010147\n",
      "7     Dead_female_family    0.058762\n",
      "8    Survive_male_family    0.013277\n",
      "9                IsChild    0.020062\n",
      "10                 IsOld    0.009438\n",
      "11  High_Survival_Ticket    0.036486\n",
      "12   Low_Survival_Ticket    0.027702\n",
      "13        Familysize_big    0.020405\n",
      "14     Familysize_normal    0.020581\n",
      "15       Familysize_solo    0.011663\n",
      "16            Embarked_C    0.012541\n",
      "17            Embarked_Q    0.009103\n",
      "18            Embarked_S    0.019887\n",
      "19          Cabin_isNull    0.036662\n",
      "20              Pclass_1    0.024130\n",
      "21              Pclass_2    0.014731\n",
      "22              Pclass_3    0.042491\n",
      "23            Sex_female    0.090380\n",
      "24              Sex_male    0.089928\n",
      "25    Fare_(8.662, 26.0]    0.019918\n",
      "26  Fare_(26.0, 512.329]    0.027328\n"
     ]
    }
   ],
   "source": [
    "features = pd.DataFrame()\n",
    "features['Feature'] = X_train.columns\n",
    "features['importance'] = random_forest.feature_importances_\n",
    "print(features)"
   ]
  },
  {
   "cell_type": "code",
   "execution_count": 77,
   "metadata": {},
   "outputs": [
    {
     "name": "stdout",
     "output_type": "stream",
     "text": [
      "Best score: 0.8540965207631874\n",
      "Best parameters: {'criterion': 'gini', 'max_depth': 8, 'n_estimators': 300}\n"
     ]
    }
   ],
   "source": [
    "forest = RandomForestClassifier(max_features='sqrt')\n",
    "parameter_grid = {\n",
    "                 'max_depth' : [5,6,7,8,9,10,11],\n",
    "                 'n_estimators': [100,200,250,300],\n",
    "                 'criterion': ['gini','entropy']\n",
    "                 }\n",
    "cross_validation = StratifiedKFold(n_splits=5, random_state=None, shuffle=False)\n",
    "grid_search = GridSearchCV(forest,\n",
    "                           param_grid=parameter_grid,\n",
    "                           cv=cross_validation)\n",
    "grid_search.fit(X_train, Y_train)\n",
    "print('Best score: {}'.format(grid_search.best_score_))\n",
    "print('Best parameters: {}'.format(grid_search.best_params_))#300 8"
   ]
  },
  {
   "cell_type": "code",
   "execution_count": 78,
   "metadata": {},
   "outputs": [
    {
     "data": {
      "text/plain": [
       "(418,)"
      ]
     },
     "execution_count": 78,
     "metadata": {},
     "output_type": "execute_result"
    }
   ],
   "source": [
    "\n",
    "random_forest = RandomForestClassifier(n_estimators=300, max_depth=8, criterion='gini')\n",
    "random_forest.fit(X_train, Y_train)\n",
    "Y_pred = random_forest.predict(X_test)#300 8 0.80382\n",
    "\n",
    "Y_pred.shape"
   ]
  },
  {
   "cell_type": "code",
   "execution_count": 79,
   "metadata": {
    "collapsed": true
   },
   "outputs": [],
   "source": [
    "result = pd.DataFrame({'PassengerId':test_df['PassengerId'].as_matrix(), 'Survived':Y_pred.astype(np.int32)})\n",
    "#result.to_csv(\"predictions.csv\", index=False)\n",
    "result.to_csv(\"RF_predictions.csv\", index=False)"
   ]
  },
  {
   "cell_type": "code",
   "execution_count": 80,
   "metadata": {
    "collapsed": true
   },
   "outputs": [],
   "source": [
    "def plot_learning_curve(clf, title, X, y, ylim=None, cv=None, n_jobs=3, train_sizes=np.linspace(.05, 1., 5)):\n",
    "    train_sizes, train_scores, test_scores = learning_curve(\n",
    "        clf, X, y, train_sizes=train_sizes)\n",
    "    train_scores_mean = np.mean(train_scores, axis=1)\n",
    "    train_scores_std = np.std(train_scores, axis=1)\n",
    "    test_scores_mean = np.mean(test_scores, axis=1)\n",
    "    test_scores_std = np.std(test_scores, axis=1)\n",
    "    \n",
    "    ax = plt.figure().add_subplot(111)\n",
    "    ax.set_title(title)\n",
    "    if ylim is not None:\n",
    "        ax.ylim(*ylim)\n",
    "    ax.set_xlabel(u\"train_num_of_samples\")\n",
    "    ax.set_ylabel(u\"score\")\n",
    "\n",
    "    ax.fill_between(train_sizes, train_scores_mean - train_scores_std, train_scores_mean + train_scores_std, \n",
    "                     alpha=0.1, color=\"b\")\n",
    "    ax.fill_between(train_sizes, test_scores_mean - test_scores_std, test_scores_mean + test_scores_std, \n",
    "                     alpha=0.1, color=\"r\")\n",
    "    ax.plot(train_sizes, train_scores_mean, 'o-', color=\"b\", label=u\"train score\")\n",
    "    ax.plot(train_sizes, test_scores_mean, 'o-', color=\"r\", label=u\"testCV score\")\n",
    "\n",
    "    ax.legend(loc=\"best\")\n",
    "\n",
    "    midpoint = ((train_scores_mean[-1] + train_scores_std[-1]) + (test_scores_mean[-1] - test_scores_std[-1])) / 2\n",
    "    diff = (train_scores_mean[-1] + train_scores_std[-1]) - (test_scores_mean[-1] - test_scores_std[-1])\n",
    "    return midpoint, diff\n"
   ]
  },
  {
   "cell_type": "code",
   "execution_count": 81,
   "metadata": {},
   "outputs": [
    {
     "data": {
      "image/png": "[encoded data removed]",
      "text/plain": [
       "<matplotlib.figure.Figure at 0x163ffabcef0>"
      ]
     },
     "metadata": {},
     "output_type": "display_data"
    }
   ],
   "source": [
    "clf = RandomForestClassifier(n_estimators=300, max_depth=8, criterion='entropy')\n",
    "plot_learning_curve(clf, u\"learning curve\",X_train, Y_train)\n",
    "plt.show()"
   ]
  },
  {
   "cell_type": "markdown",
   "metadata": {
    "collapsed": true
   },
   "source": [
    "Stacking"
   ]
  },
  {
   "cell_type": "code",
   "execution_count": 54,
   "metadata": {},
   "outputs": [
    {
     "data": {
      "text/plain": [
       "pandas.core.frame.DataFrame"
      ]
     },
     "execution_count": 54,
     "metadata": {},
     "output_type": "execute_result"
    }
   ],
   "source": [
    "type(X_train)"
   ]
  },
  {
   "cell_type": "code",
   "execution_count": 55,
   "metadata": {},
   "outputs": [
    {
     "name": "stdout",
     "output_type": "stream",
     "text": [
      "i:0 ,train_index:[ 3  4  5  6  7  8  9 10 11] , test_index: [0 1 2] \n",
      "i:1 ,train_index:[ 0  1  2  6  7  8  9 10 11] , test_index: [3 4 5] \n",
      "i:2 ,train_index:[ 0  1  2  3  4  5  8  9 10 11] , test_index: [6 7] \n",
      "i:3 ,train_index:[ 0  1  2  3  4  5  6  7 10 11] , test_index: [8 9] \n",
      "i:4 ,train_index:[0 1 2 3 4 5 6 7 8 9] , test_index: [10 11] \n"
     ]
    }
   ],
   "source": [
    "#test enumerate\n",
    "X = np.arange(24).reshape(12,2)  \n",
    "y = np.random.choice([1,2],12,p=[0.4,0.6])  \n",
    "kf = KFold(n_splits=5,shuffle=False)  \n",
    "for i,(train_index , test_index) in list(enumerate(kf.split(X))):  \n",
    "    print('i:%s ,train_index:%s , test_index: %s ' %(i,train_index,test_index))"
   ]
  },
  {
   "cell_type": "code",
   "execution_count": 82,
   "metadata": {
    "collapsed": true
   },
   "outputs": [],
   "source": [
    "# stacking\n",
    "\n",
    "NFOLDS = 3\n",
    "ntrain = X_train.shape[0] # 891\n",
    "ntest = X_test.shape[0]  # 418\n",
    "kf = KFold(n_splits = NFOLDS, random_state = None)\n",
    "'''clfs = [ RandomForestClassifier(n_estimators=300, max_depth=8, criterion='entropy'),\n",
    "        GradientBoostingClassifier(n_estimators=500,learning_rate=0.03,max_depth=3),\n",
    "        KNeighborsClassifier(n_neighbors = 3)]'''\n",
    "\n",
    "clf = RandomForestClassifier(n_estimators=300, max_depth=8, criterion='entropy')\n",
    "\n",
    "# get_oof仅支持单一子模型\n",
    "def get_oof(clf, x_train, y_train, x_test):\n",
    "    oof_train = np.zeros((ntrain,))  # 1*891  \n",
    "    oof_test = np.zeros((ntest,))    # 1*418\n",
    "    oof_test_skf = np.empty((NFOLDS, ntest))  # 5*418 (NFOLDS行，ntest列的二维array)\n",
    "    for i,(train_index , test_index) in list(enumerate(kf.split(x_train))):   #循环NFOLDS次\n",
    "        x_tr = x_train.iloc[train_index,]\n",
    "        y_tr = y_train.iloc[train_index,]\n",
    "        x_te = x_train.iloc[test_index,]\n",
    "        #print(len(train_index),len(test_index))\n",
    "        #clf = clfs[i]\n",
    "        clf.fit(x_tr, y_tr)\n",
    "        \n",
    "        oof_train[test_index] = clf.predict(x_te)\n",
    "        #print(oof_train.shape)\n",
    "        \n",
    "        oof_test_skf[i, :] = clf.predict(x_test)  #固定行填充，循环一次，填充一行\n",
    "        #print(oof_test_skf.shape)\n",
    "    oof_test[:] = oof_test_skf.mean(axis=0)  #axis=0,按列求平均，最后保留一行\n",
    "    \n",
    "    '''print('\\n\\n')\n",
    "    print(oof_test.shape)\n",
    "    print(oof_train.reshape(-1, 1).shape)\n",
    "    print(oof_test.reshape(-1, 1).shape)'''\n",
    "    \n",
    "    return oof_train.reshape(-1, 1), oof_test.reshape(-1, 1)  #转置，从一行变为一列\n",
    "# oof_train.reshape(-1, 1):891*1 oof_test.reshape(-1, 1):418*1\n",
    "\n",
    "\n"
   ]
  },
  {
   "cell_type": "code",
   "execution_count": 83,
   "metadata": {
    "collapsed": true
   },
   "outputs": [],
   "source": [
    "# Put in our parameters for said classifiers\n",
    "# Random Forest parameters\n",
    "rf_params = {\n",
    "    'n_jobs': -1,\n",
    "    'n_estimators': 500,\n",
    "     'warm_start': True, \n",
    "     #'max_features': 0.2,\n",
    "    'max_depth': 6,\n",
    "    'min_samples_leaf': 2,\n",
    "    'max_features' : 'sqrt',\n",
    "    'verbose': 0\n",
    "}\n",
    "\n",
    "# Extra Trees Parameters\n",
    "et_params = {\n",
    "    'n_jobs': -1,\n",
    "    'n_estimators':500,\n",
    "    #'max_features': 0.5,\n",
    "    'max_depth': 8,\n",
    "    'min_samples_leaf': 2,\n",
    "    'verbose': 0\n",
    "}\n",
    "\n",
    "# AdaBoost parameters\n",
    "ada_params = {\n",
    "    'n_estimators': 500,\n",
    "    'learning_rate' : 0.75\n",
    "}\n",
    "\n",
    "# Gradient Boosting parameters\n",
    "gb_params = {\n",
    "    'n_estimators': 500,\n",
    "     #'max_features': 0.2,\n",
    "    'max_depth': 5,\n",
    "    'min_samples_leaf': 2,\n",
    "    'verbose': 0\n",
    "}\n",
    "\n",
    "# Support Vector Classifier parameters \n",
    "svc_params = {\n",
    "    'kernel' : 'linear',\n",
    "    'C' : 0.025\n",
    "    }"
   ]
  },
  {
   "cell_type": "code",
   "execution_count": 84,
   "metadata": {
    "collapsed": true
   },
   "outputs": [],
   "source": [
    "# Create 5 objects that represent our 4 models\n",
    "rf = RandomForestClassifier(**rf_params)\n",
    "#rf = RandomForestClassifier(n_estimators=300, max_depth=8, criterion='entropy')\n",
    "et = ExtraTreesClassifier(**et_params)\n",
    "ada = AdaBoostClassifier(**ada_params)\n",
    "gb = GradientBoostingClassifier(**gb_params)\n",
    "svc = SVC(**svc_params)"
   ]
  },
  {
   "cell_type": "code",
   "execution_count": 85,
   "metadata": {},
   "outputs": [
    {
     "name": "stdout",
     "output_type": "stream",
     "text": [
      "Training is complete\n"
     ]
    }
   ],
   "source": [
    "\n",
    "\n",
    "# Create our OOF train and test predictions. These base results will be used as new features\n",
    "et_oof_train, et_oof_test = get_oof(et, X_train, Y_train, X_test) # Extra Trees\n",
    "rf_oof_train, rf_oof_test = get_oof(rf,X_train, Y_train, X_test) # Random Forest\n",
    "ada_oof_train, ada_oof_test = get_oof(ada, X_train, Y_train, X_test) # AdaBoost \n",
    "gb_oof_train, gb_oof_test = get_oof(gb,X_train, Y_train, X_test) # Gradient Boost\n",
    "svc_oof_train, svc_oof_test = get_oof(svc,X_train, Y_train, X_test) # Support Vector Classifier\n",
    "\n",
    "print(\"Training is complete\")"
   ]
  },
  {
   "cell_type": "code",
   "execution_count": 86,
   "metadata": {},
   "outputs": [
    {
     "name": "stdout",
     "output_type": "stream",
     "text": [
      "clf1:Extra Trees  score: 84.29\n",
      "clf1:Random Forest  score: 86.64\n",
      "clf1:AdaBoost  score: 82.94\n",
      "clf1:GBDT score: 82.94\n",
      "clf1:SVC  score: 82.15\n"
     ]
    },
    {
     "data": {
      "image/png": "[encoded data removed]",
      "text/plain": [
       "<matplotlib.figure.Figure at 0x163ffa61940>"
      ]
     },
     "metadata": {},
     "output_type": "display_data"
    },
    {
     "data": {
      "image/png": "[encoded data removed]",
      "text/plain": [
       "<matplotlib.figure.Figure at 0x163ffa39940>"
      ]
     },
     "metadata": {},
     "output_type": "display_data"
    },
    {
     "data": {
      "image/png": "[encoded data removed]",
      "text/plain": [
       "<matplotlib.figure.Figure at 0x163ff0bdd68>"
      ]
     },
     "metadata": {},
     "output_type": "display_data"
    },
    {
     "data": {
      "image/png": "[encoded data removed]",
      "text/plain": [
       "<matplotlib.figure.Figure at 0x16382098400>"
      ]
     },
     "metadata": {},
     "output_type": "display_data"
    },
    {
     "data": {
      "image/png": "[encoded data removed]",
      "text/plain": [
       "<matplotlib.figure.Figure at 0x163820aef98>"
      ]
     },
     "metadata": {},
     "output_type": "display_data"
    }
   ],
   "source": [
    "clf2 = gb\n",
    "\n",
    "\n",
    "clf2.fit(et_oof_train, Y_train)\n",
    "print('clf1:Extra Trees  score:',round(clf2.score(et_oof_train, Y_train) * 100, 2))\n",
    "plot_learning_curve(clf2, u\"learning curve\",et_oof_train, Y_train)\n",
    "\n",
    "clf2.fit(rf_oof_train, Y_train)\n",
    "print('clf1:Random Forest  score:',round(clf2.score(rf_oof_train, Y_train) * 100, 2))\n",
    "plot_learning_curve(clf2, u\"learning curve\",rf_oof_train, Y_train)\n",
    "\n",
    "clf2.fit(ada_oof_train, Y_train)\n",
    "print('clf1:AdaBoost  score:',round(clf2.score(ada_oof_train, Y_train) * 100, 2))\n",
    "plot_learning_curve(clf2, u\"learning curve\",ada_oof_train, Y_train)\n",
    "\n",
    "clf2.fit(gb_oof_train, Y_train)\n",
    "print('clf1:GBDT score:',round(clf2.score(gb_oof_train, Y_train) * 100, 2))\n",
    "plot_learning_curve(clf2, u\"learning curve\",gb_oof_train, Y_train)\n",
    "\n",
    "clf2.fit(svc_oof_train, Y_train)\n",
    "print('clf1:SVC  score:',round(clf2.score(svc_oof_train, Y_train) * 100, 2))\n",
    "plot_learning_curve(clf2, u\"learning curve\",svc_oof_train, Y_train)\n",
    "\n",
    "\n",
    "plt.show()"
   ]
  },
  {
   "cell_type": "code",
   "execution_count": 87,
   "metadata": {
    "collapsed": true
   },
   "outputs": [],
   "source": [
    "Y_pred = clf2.predict(rf_oof_test)\n",
    "result = pd.DataFrame({'PassengerId':test_df['PassengerId'].as_matrix(), 'Survived':Y_pred.astype(np.int32)})\n",
    "#result.to_csv(\"predictions.csv\", index=False)\n",
    "result.to_csv(\"Stacking_predictions.csv\", index=False)"
   ]
  },
  {
   "cell_type": "code",
   "execution_count": 159,
   "metadata": {},
   "outputs": [
    {
     "name": "stdout",
     "output_type": "stream",
     "text": [
      "Best score: 0.8709315375982043\n",
      "Best parameters: {'max_depth': 5, 'min_samples_leaf': 2, 'n_estimators': 100}\n"
     ]
    }
   ],
   "source": [
    "# 调参\n",
    "\n",
    "'''forest = RandomForestClassifier(max_features='sqrt')\n",
    "parameter_grid = {\n",
    "                 'max_depth' : [5,6,7,8,9,10,11],\n",
    "                 'n_estimators': [100,200,250,300],\n",
    "                 'criterion': ['gini','entropy']\n",
    "                 }'''\n",
    "gbdt = GradientBoostingClassifier()\n",
    "# Gradient Boosting parameters\n",
    "parameter_grid = {\n",
    "    'n_estimators': [100,200,250,300,400,500],\n",
    "     #'max_features': 0.2,\n",
    "    'max_depth': [5,6,7,8,9,10,11],\n",
    "    'min_samples_leaf': [2],\n",
    "}\n",
    "cross_validation = StratifiedKFold(n_splits=5, random_state=None, shuffle=False)\n",
    "grid_search = GridSearchCV(gbdt,\n",
    "                           param_grid=parameter_grid,\n",
    "                           cv=cross_validation)\n",
    "grid_search.fit(rf_oof_train, Y_train)\n",
    "print('Best score: {}'.format(grid_search.best_score_))\n",
    "print('Best parameters: {}'.format(grid_search.best_params_))#"
   ]
  },
  {
   "cell_type": "code",
   "execution_count": 160,
   "metadata": {},
   "outputs": [
    {
     "name": "stdout",
     "output_type": "stream",
     "text": [
      "87.09\n"
     ]
    },
    {
     "data": {
      "image/png": "[encoded data removed]",
      "text/plain": [
       "<matplotlib.figure.Figure at 0x224c49e2470>"
      ]
     },
     "metadata": {},
     "output_type": "display_data"
    }
   ],
   "source": [
    "# Gradient Boosting parameters\n",
    "gb_params = {\n",
    "    'n_estimators': 100,\n",
    "     #'max_features': 0.2,\n",
    "    'max_depth': 5,\n",
    "    'min_samples_leaf': 2,\n",
    "    'verbose': 0\n",
    "}\n",
    "gbdt = GradientBoostingClassifier(**gb_params)\n",
    "\n",
    "#gbdt = GradientBoostingClassifier(n_estimators=500,learning_rate=0.03,max_depth=3)\n",
    "clf2= gbdt\n",
    "#clf2= logreg\n",
    "clf2.fit(rf_oof_train, Y_train)\n",
    "print(round(clf2.score(rf_oof_train, Y_train) * 100, 2))\n",
    "plot_learning_curve(clf2, u\"learning curve\",rf_oof_train, Y_train)\n",
    "plt.show()"
   ]
  },
  {
   "cell_type": "code",
   "execution_count": 58,
   "metadata": {
    "collapsed": true
   },
   "outputs": [],
   "source": [
    "Y_pred = clf2.predict(rf_oof_test)\n",
    "result = pd.DataFrame({'PassengerId':test_df['PassengerId'].as_matrix(), 'Survived':Y_pred.astype(np.int32)})\n",
    "#result.to_csv(\"predictions.csv\", index=False)\n",
    "result.to_csv(\"Stacking_predictions.csv\", index=False)# 0.80382"
   ]
  },
  {
   "cell_type": "markdown",
   "metadata": {},
   "source": [
    "Xgboost作为第二层模型\n",
    "\n",
    "Xgboot适合特征维度较高的数据，将第一层得到的测试和训练集合并用以训练和预测"
   ]
  },
  {
   "cell_type": "code",
   "execution_count": 161,
   "metadata": {
    "collapsed": true
   },
   "outputs": [],
   "source": [
    "x_train = np.concatenate(( et_oof_train, rf_oof_train, ada_oof_train, gb_oof_train, svc_oof_train), axis=1)\n",
    "x_test = np.concatenate(( et_oof_test, rf_oof_test, ada_oof_test, gb_oof_test, svc_oof_test), axis=1)"
   ]
  },
  {
   "cell_type": "code",
   "execution_count": 162,
   "metadata": {},
   "outputs": [
    {
     "name": "stdout",
     "output_type": "stream",
     "text": [
      "87.09\n"
     ]
    },
    {
     "data": {
      "image/png": "[encoded data removed]",
      "text/plain": [
       "<matplotlib.figure.Figure at 0x224c495e4a8>"
      ]
     },
     "metadata": {},
     "output_type": "display_data"
    }
   ],
   "source": [
    "gbm = xgb.XGBClassifier(\n",
    "    #learning_rate = 0.02,\n",
    " n_estimators= 2000,\n",
    " max_depth= 4,\n",
    " min_child_weight= 2,\n",
    " #gamma=1,\n",
    " gamma=0.9,                        \n",
    " subsample=0.8,\n",
    " colsample_bytree=0.8,\n",
    " objective= 'binary:logistic',\n",
    " nthread= -1,\n",
    " scale_pos_weight=1).fit(x_train, Y_train)\n",
    "print(round(gbm.score(x_train, Y_train) * 100, 2))\n",
    "plot_learning_curve(gbm, u\"learning curve\",x_train, Y_train)\n",
    "\n",
    "\n",
    "plt.show()"
   ]
  },
  {
   "cell_type": "code",
   "execution_count": 76,
   "metadata": {
    "collapsed": true
   },
   "outputs": [],
   "source": [
    "Y_pred = gbm.predict(x_test)\n",
    "result = pd.DataFrame({'PassengerId':test_df['PassengerId'].as_matrix(), 'Survived':Y_pred.astype(np.int32)})\n",
    "#result.to_csv(\"predictions.csv\", index=False)\n",
    "result.to_csv(\"Stacking_predictions_xgb.csv\", index=False) #0.79904"
   ]
  },
  {
   "cell_type": "markdown",
   "metadata": {},
   "source": [
    "Stacking：尝试多种子模型"
   ]
  },
  {
   "cell_type": "code",
   "execution_count": 40,
   "metadata": {
    "collapsed": true
   },
   "outputs": [],
   "source": [
    "from sklearn.base import BaseEstimator, TransformerMixin, RegressorMixin, clone\n",
    "\n",
    "\n",
    "class StackingAveragedModels(BaseEstimator, RegressorMixin, TransformerMixin):\n",
    "    def __init__(self, base_models, meta_model, n_folds=5):\n",
    "        self.base_models = base_models\n",
    "        self.meta_model = meta_model\n",
    "        self.n_folds = n_folds\n",
    "   \n",
    "    # We again fit the data on clones of the original models\n",
    "    def fit(self, X, y):\n",
    "        self.base_models_ = [list() for x in self.base_models]\n",
    "        self.meta_model_ = clone(self.meta_model)\n",
    "        kfold = KFold(n_splits=self.n_folds, shuffle=True, random_state=156)\n",
    "        \n",
    "        # Train cloned base models then create out-of-fold predictions\n",
    "        # that are needed to train the cloned meta-model\n",
    "        out_of_fold_predictions = np.zeros((X.shape[0], len(self.base_models)))\n",
    "        for i, model in enumerate(self.base_models):\n",
    "            for train_index, holdout_index in kfold.split(X, y):\n",
    "                instance = clone(model)\n",
    "                self.base_models_[i].append(instance)\n",
    "                instance.fit(X[train_index], y[train_index])\n",
    "                y_pred = instance.predict(X[holdout_index])\n",
    "                out_of_fold_predictions[holdout_index, i] = y_pred\n",
    "                \n",
    "        # Now train the cloned  meta-model using the out-of-fold predictions as new feature\n",
    "        self.meta_model_.fit(out_of_fold_predictions, y)\n",
    "        return self\n",
    "   \n",
    "    #Do the predictions of all base models on the test data and use the averaged predictions as \n",
    "    #meta-features for the final prediction which is done by the meta-model\n",
    "    def predict(self, X):\n",
    "        meta_features = np.column_stack([\n",
    "            np.column_stack([model.predict(X) for model in base_models]).mean(axis=1)\n",
    "            for base_models in self.base_models_ ])\n",
    "        return self.meta_model_.predict(meta_features)"
   ]
  },
  {
   "cell_type": "code",
   "execution_count": 42,
   "metadata": {
    "collapsed": true
   },
   "outputs": [],
   "source": [
    "stacked_averaged_models = StackingAveragedModels(base_models = (rf, et, ada, gb, svc),\n",
    "                                                 meta_model = logreg)\n",
    "\n",
    "stacked_averaged_models.fit(X_train.values,Y_train)\n",
    "stacked_pred = stacked_averaged_models.predict(X_test)\n",
    "Y_pred = stacked_pred\n",
    "result = pd.DataFrame({'PassengerId':test_df['PassengerId'].as_matrix(), 'Survived':Y_pred.astype(np.int32)})\n",
    "result.to_csv(\"stacked_averaged_models_predictions.csv\", index=False) # 79.425"
   ]
  },
  {
   "cell_type": "markdown",
   "metadata": {},
   "source": [
    "Stacking不work 可能的原因：\n",
    "\n",
    "\n",
    "  子模型中有明显逊色的模型\n",
    "\n",
    "  子模型种类不够丰富\n",
    "\n",
    "  数据集太小，stacking不一定有效\n"
   ]
  },
  {
   "cell_type": "code",
   "execution_count": null,
   "metadata": {
    "collapsed": true
   },
   "outputs": [],
   "source": []
  }
 ],
 "metadata": {
  "kernelspec": {
   "display_name": "Python 3",
   "language": "python",
   "name": "python3"
  },
  "language_info": {
   "codemirror_mode": {
    "name": "ipython",
    "version": 3
   },
   "file_extension": ".py",
   "mimetype": "text/x-python",
   "name": "python",
   "nbconvert_exporter": "python",
   "pygments_lexer": "ipython3",
   "version": "3.6.3"
  }
 },
 "nbformat": 4,
 "nbformat_minor": 2
}
